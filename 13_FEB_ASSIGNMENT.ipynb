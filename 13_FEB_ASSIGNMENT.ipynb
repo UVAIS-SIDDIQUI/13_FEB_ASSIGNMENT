{
 "cells": [
  {
   "cell_type": "code",
   "execution_count": 1,
   "id": "afb19ac0-7fe9-4443-a681-8ef977924138",
   "metadata": {},
   "outputs": [],
   "source": [
    "# Q1. Explain why we have to use the Exception class while creating a Custom Exception."
   ]
  },
  {
   "cell_type": "markdown",
   "id": "c0ee1c8f-8a0c-4d13-bdd1-53bd4594a5a3",
   "metadata": {},
   "source": [
    "ANS = When creating a custom exception in Python, it is recommended to use the Exception class as the base class for all the exceptions. This is because the Exception class is the base class for all built-in exceptions in Python. By using the Exception class as the base class for your custom exception, you can take advantage of all the features provided by the Exception class such as message passing, traceback handling.\n",
    "\n",
    "  EXAMPLE:- "
   ]
  },
  {
   "cell_type": "code",
   "execution_count": 2,
   "id": "ce35eed3-117e-41b6-9cbe-cf34d554bdc0",
   "metadata": {},
   "outputs": [
    {
     "name": "stdin",
     "output_type": "stream",
     "text": [
      "enter your age 250\n"
     ]
    },
    {
     "name": "stdout",
     "output_type": "stream",
     "text": [
      "enterd age is very very high \n"
     ]
    }
   ],
   "source": [
    "class validateage(Exception):\n",
    "    def __init__(self , msg) : \n",
    "        self.msg = msg\n",
    "def validaetage(age) : \n",
    "    if age < 0 :\n",
    "        raise validateage(\"entered age is negative \" )\n",
    "    elif age > 200 : \n",
    "        raise validateage(\"enterd age is very very high \" )\n",
    "    else :\n",
    "        print(\"age is valid\" )\n",
    "try :\n",
    "    age = int(input(\"enter your age\" ))\n",
    "    validaetage(age)\n",
    "except validateage as e :\n",
    "    print(e) "
   ]
  },
  {
   "cell_type": "code",
   "execution_count": 3,
   "id": "4c67d86c-61b8-4e45-aa0e-44378a0d0ab1",
   "metadata": {},
   "outputs": [],
   "source": [
    "# Q2. Write a python program to print Python Exception Hierarchy."
   ]
  },
  {
   "cell_type": "code",
   "execution_count": 1,
   "id": "17b09732-c5f0-426f-bc2d-532547c083c9",
   "metadata": {},
   "outputs": [
    {
     "name": "stdout",
     "output_type": "stream",
     "text": [
      "ArithmeticError\n",
      "AssertionError\n",
      "AttributeError\n",
      "BaseException\n",
      "BlockingIOError\n",
      "BrokenPipeError\n",
      "BufferError\n",
      "BytesWarning\n",
      "ChildProcessError\n",
      "ConnectionAbortedError\n",
      "ConnectionError\n",
      "ConnectionRefusedError\n",
      "ConnectionResetError\n",
      "DeprecationWarning\n",
      "EOFError\n",
      "EncodingWarning\n",
      "EnvironmentError\n",
      "Exception\n",
      "FileExistsError\n",
      "FileNotFoundError\n",
      "FloatingPointError\n",
      "FutureWarning\n",
      "GeneratorExit\n",
      "IOError\n",
      "ImportError\n",
      "ImportWarning\n",
      "IndentationError\n",
      "IndexError\n",
      "InterruptedError\n",
      "IsADirectoryError\n",
      "KeyError\n",
      "KeyboardInterrupt\n",
      "LookupError\n",
      "MemoryError\n",
      "ModuleNotFoundError\n",
      "NameError\n",
      "NotADirectoryError\n",
      "NotImplementedError\n",
      "OSError\n",
      "OverflowError\n",
      "PendingDeprecationWarning\n",
      "PermissionError\n",
      "ProcessLookupError\n",
      "RecursionError\n",
      "ReferenceError\n",
      "ResourceWarning\n",
      "RuntimeError\n",
      "RuntimeWarning\n",
      "StopAsyncIteration\n",
      "StopIteration\n",
      "SyntaxError\n",
      "SyntaxWarning\n",
      "SystemError\n",
      "SystemExit\n",
      "TabError\n",
      "TimeoutError\n",
      "TypeError\n",
      "UnboundLocalError\n",
      "UnicodeDecodeError\n",
      "UnicodeEncodeError\n",
      "UnicodeError\n",
      "UnicodeTranslateError\n",
      "UnicodeWarning\n",
      "UserWarning\n",
      "ValueError\n",
      "Warning\n",
      "ZeroDivisionError\n"
     ]
    }
   ],
   "source": [
    "import inspect\n",
    "\n",
    "def print_exception_hierarchy():\n",
    "    for name, obj in inspect.getmembers(__builtins__):\n",
    "        if inspect.isclass(obj) and issubclass(obj, BaseException):\n",
    "            print(name)\n",
    "\n",
    "print_exception_hierarchy()"
   ]
  },
  {
   "cell_type": "code",
   "execution_count": 3,
   "id": "d6e15adb-db53-4918-8207-a190fb1a8ac5",
   "metadata": {},
   "outputs": [],
   "source": [
    "# Q3. What errors are defined in the ArithmeticError class? Explain any two with an example."
   ]
  },
  {
   "cell_type": "markdown",
   "id": "4c7a6943-013a-42be-abbf-d65e5438fa4e",
   "metadata": {},
   "source": [
    "ANS = The ArithmeticError class is the base class for all errors associated with arithmetic operations. It is derived from the Exception class.\n",
    "\n",
    "The following are the built-in exceptions that are derived from the ArithmeticError class:\n",
    "\n",
    "OverflowError: Raised when the result of an arithmetic operation is too large to be represented.\n",
    "\n",
    "ZeroDivisionError: Raised when division or modulo by zero takes place.\n",
    "\n",
    "FloatingPointError: Raised when a floating point operation fails.\n",
    "\n",
    "         -->two examples of how to handle these exceptions:<--"
   ]
  },
  {
   "cell_type": "code",
   "execution_count": 10,
   "id": "c781c48b-6d6e-48ef-af96-dc6bdc4d7923",
   "metadata": {},
   "outputs": [
    {
     "name": "stdout",
     "output_type": "stream",
     "text": [
      "division by zero {<class 'ZeroDivisionError'>}\n",
      "(34, 'Numerical result out of range'), <class 'OverflowError'>\n"
     ]
    }
   ],
   "source": [
    "# Handling ZeroDivisionError\n",
    "try:\n",
    "    1/0\n",
    "except ArithmeticError as e:\n",
    "    print(f\"{e}\", {e.__class__})\n",
    "# Output: division by zero, <class 'ZeroDivisionError'>\n",
    "\n",
    "# Handling OverflowError\n",
    "j = 5.0\n",
    "try:\n",
    "    for i in range(1, 1000):\n",
    "        j = j**i\n",
    "except ArithmeticError as e:\n",
    "    print(f\"{e}, {e.__class__}\")\n",
    "# Output: (34, 'Result too large'), <class 'OverflowError'>\n"
   ]
  },
  {
   "cell_type": "markdown",
   "id": "7dd27443-2a2c-4200-bddd-c5506d376e8a",
   "metadata": {},
   "source": [
    "In the first example, we handle the ZeroDivisionError exception by using the ArithmeticError class. The output shows that it was indeed a ZeroDivisionError.\n",
    "\n",
    "In the second example, we handle both ZeroDivisionError and OverflowError exceptions by using the ArithmeticError class."
   ]
  },
  {
   "cell_type": "code",
   "execution_count": 11,
   "id": "9ce1c96e-0e24-4765-b7b0-0385729c7220",
   "metadata": {},
   "outputs": [],
   "source": [
    "# Q4. Why LookupError class is used? Explain with an example KeyError and IndexError."
   ]
  },
  {
   "cell_type": "markdown",
   "id": "4224c1a4-fcbc-48bc-a1e3-c5e826e31224",
   "metadata": {},
   "source": [
    "ANS = The LookupError exception in Python forms the base class for all exceptions that are raised when an index or a key is not found for a sequence or dictionary respectively. You can use LookupError exception class to handle both IndexError and KeyError exception classes.\n",
    "\n",
    "For example:-\n",
    "if you try to access an element of a list using an index that is out of range, Python raises an IndexError exception. Similarly, if you try to access a key in a dictionary that does not exist, Python raises a KeyError exception\n",
    "\n",
    "Here is an example of how to raise an IndexError exception in Python:"
   ]
  },
  {
   "cell_type": "code",
   "execution_count": 1,
   "id": "cff1a628-4537-4ea1-91e8-39209e6c5184",
   "metadata": {},
   "outputs": [
    {
     "ename": "IndexError",
     "evalue": "list index out of range",
     "output_type": "error",
     "traceback": [
      "\u001b[0;31m---------------------------------------------------------------------------\u001b[0m",
      "\u001b[0;31mIndexError\u001b[0m                                Traceback (most recent call last)",
      "Cell \u001b[0;32mIn[1], line 2\u001b[0m\n\u001b[1;32m      1\u001b[0m my_list \u001b[38;5;241m=\u001b[39m [\u001b[38;5;241m1\u001b[39m, \u001b[38;5;241m2\u001b[39m, \u001b[38;5;241m3\u001b[39m]\n\u001b[0;32m----> 2\u001b[0m \u001b[38;5;28mprint\u001b[39m(\u001b[43mmy_list\u001b[49m\u001b[43m[\u001b[49m\u001b[38;5;241;43m3\u001b[39;49m\u001b[43m]\u001b[49m)\n",
      "\u001b[0;31mIndexError\u001b[0m: list index out of range"
     ]
    }
   ],
   "source": [
    "my_list = [1, 2, 3]\n",
    "print(my_list[3])"
   ]
  },
  {
   "cell_type": "markdown",
   "id": "2fd22094-538c-4c6f-a7bd-2ded645779a0",
   "metadata": {},
   "source": [
    "This will raise an IndexError exception because the list has only three elements and we are trying to access the fourth element (index 3).\n",
    "\n",
    "\n",
    "Here is an example of how to raise a KeyError exception in Python:\n"
   ]
  },
  {
   "cell_type": "code",
   "execution_count": 2,
   "id": "074e4457-3708-4ea3-ac15-3537ffd861e4",
   "metadata": {},
   "outputs": [
    {
     "ename": "KeyError",
     "evalue": "'c'",
     "output_type": "error",
     "traceback": [
      "\u001b[0;31m---------------------------------------------------------------------------\u001b[0m",
      "\u001b[0;31mKeyError\u001b[0m                                  Traceback (most recent call last)",
      "Cell \u001b[0;32mIn[2], line 2\u001b[0m\n\u001b[1;32m      1\u001b[0m my_dict \u001b[38;5;241m=\u001b[39m {\u001b[38;5;124m'\u001b[39m\u001b[38;5;124ma\u001b[39m\u001b[38;5;124m'\u001b[39m: \u001b[38;5;241m1\u001b[39m, \u001b[38;5;124m'\u001b[39m\u001b[38;5;124mb\u001b[39m\u001b[38;5;124m'\u001b[39m: \u001b[38;5;241m2\u001b[39m}\n\u001b[0;32m----> 2\u001b[0m \u001b[38;5;28mprint\u001b[39m(\u001b[43mmy_dict\u001b[49m\u001b[43m[\u001b[49m\u001b[38;5;124;43m'\u001b[39;49m\u001b[38;5;124;43mc\u001b[39;49m\u001b[38;5;124;43m'\u001b[39;49m\u001b[43m]\u001b[49m)\n",
      "\u001b[0;31mKeyError\u001b[0m: 'c'"
     ]
    }
   ],
   "source": [
    "my_dict = {'a': 1, 'b': 2}\n",
    "print(my_dict['c'])"
   ]
  },
  {
   "cell_type": "markdown",
   "id": "eeb0d6c5-ff07-413f-9565-92c4de831b4c",
   "metadata": {},
   "source": [
    "This will raise a KeyError exception because the key ‘c’ is not present in the dictionary."
   ]
  },
  {
   "cell_type": "code",
   "execution_count": 3,
   "id": "f2611ee5-c6b5-47bc-9d42-b2a9f27143e0",
   "metadata": {},
   "outputs": [],
   "source": [
    "# Q5. Explain ImportError. What is ModuleNotFoundError?"
   ]
  },
  {
   "cell_type": "markdown",
   "id": "b5d1d659-24f8-44e3-b9e0-ad639e9e0d44",
   "metadata": {},
   "source": [
    "ANS = In Python, both ImportError and ModuleNotFoundError are exceptions that are raised when there is an issue with importing modules, packages, or other objects from external files. They occur when Python encounters problems while trying to locate and load the specified modules or objects.\n",
    "\n",
    "ImportError:\n",
    "ImportError is a general exception that's raised when there's a problem importing a module. It can occur due to several reasons, such as:\n",
    "\n",
    "->The specified module or object doesn't exist in the given context.\n",
    "\n",
    "->There might be a typo in the module or object name.\n",
    "\n",
    "->The module is not installed in the Python environment.\n",
    "\n",
    "->The module is located in a different directory that is not included in the Python path.\n",
    "\n",
    "->There's an issue with the module's code, causing it to fail while importing."
   ]
  },
  {
   "cell_type": "code",
   "execution_count": 7,
   "id": "ca360d85-10c6-489e-898b-67e7e306250c",
   "metadata": {},
   "outputs": [
    {
     "name": "stdout",
     "output_type": "stream",
     "text": [
      "No module named 'uvais'\n",
      "this is impoterror\n"
     ]
    }
   ],
   "source": [
    "try :\n",
    "    import uvais\n",
    "except ImportError as e :\n",
    "    print(e)\n",
    "print(\"this is impoterror\")"
   ]
  },
  {
   "cell_type": "markdown",
   "id": "d2e40a8b-9855-4a5b-b1ec-2cbfe1668960",
   "metadata": {},
   "source": [
    "ModuleNotFoundError: is an exception in Python that is raised when the interpreter is unable to locate and import a specified module or package. This exception is a subclass of the more general ImportError exception and was introduced in Python 3.6 to provide more specific information about the failure to locate a module.\n",
    "\n",
    "When you attempt to import a module using the import statement and the interpreter cannot find the module in the search paths, it raises a ModuleNotFoundError to indicate that the module could not be located. This can happen for a variety of reasons, including:\n",
    "\n",
    "The module is not installed: If the module is not part of the standard library and is not installed in your Python environment, Python will raise a ModuleNotFoundError.\n",
    "\n",
    "Incorrect module name: If there's a typo in the module's name or if you provide the wrong name, Python will raise this exception.\n",
    "\n",
    "Module is in a different directory: If the module you are trying to import is located in a different directory that is not included in Python's search paths (sys.path), you might encounter a ModuleNotFoundError."
   ]
  },
  {
   "cell_type": "code",
   "execution_count": 8,
   "id": "385a59be-0845-4cff-9221-7645012b75fe",
   "metadata": {},
   "outputs": [
    {
     "name": "stdout",
     "output_type": "stream",
     "text": [
      "ModuleNotFoundError: No module named 'non_existent_module'\n"
     ]
    }
   ],
   "source": [
    "try:\n",
    "    import non_existent_module\n",
    "except ModuleNotFoundError as e:\n",
    "    print(f\"ModuleNotFoundError: {e}\")"
   ]
  },
  {
   "cell_type": "code",
   "execution_count": 9,
   "id": "f50fb2b9-c861-4793-9b2b-23cf9f0822c4",
   "metadata": {},
   "outputs": [],
   "source": [
    "# Q6. List down some best practices for exception handling in python."
   ]
  },
  {
   "cell_type": "markdown",
   "id": "8cc12944-aff4-4f95-854c-f7c870968a26",
   "metadata": {},
   "source": [
    "ANS = Specific Exception Handling: Handle specific exceptions rather than using broad exception handlers. This helps you catch only the exceptions you expect and avoid masking unexpected issues.\n",
    "\n",
    "Use try...except Blocks: \n",
    "Wrap the code that might raise an exception within a try...except block. This isolates the potentially problematic code from the rest of your program.\n",
    "\n",
    "Keep try Blocks Small: \n",
    "Place only the code that might raise an exception inside the try block. Keeping the try block small makes it easier to pinpoint where an exception occurred.\n",
    "\n",
    "Use Multiple except Blocks: \n",
    "If you're handling multiple types of exceptions, use separate except blocks for each one. This allows you to apply different error-handling logic based on the specific exception type.\n",
    "\n",
    "Avoid Using Bare except:\n",
    "Avoid using a bare except statement without specifying the exception type. This can lead to catching unintended exceptions and make debugging difficult.\n",
    "\n",
    "Use finally Block:\n",
    "If you need to perform cleanup actions (e.g., closing files or releasing resources) regardless of whether an exception occurred, use the finally block. This code will run regardless of whether an exception was raised.\n",
    "\n",
    "Raising Exceptions:\n",
    "If a specific condition warrants it, you can raise your own exceptions using the raise statement. This allows you to create custom exception types to make your code more descriptive and organized.\n",
    "\n",
    "Logging Exceptions: \n",
    "Instead of just printing error messages, consider using a logging framework to log exceptions. This can help you track down issues and debug more effectively.\n",
    "\n",
    "Avoid Nesting Too Deeply:\n",
    "Avoid excessive nesting of try...except blocks. Deeply nested blocks can make the code hard to read and understand. Refactor your code to keep the nesting level reasonable.\n",
    "\n",
    "Handle Exceptions at the Right Level: \n",
    "Handle exceptions at a level where you can effectively recover from them. Sometimes, it's better to let exceptions propagate up the call stack if you can't handle them properly in a given context.\n",
    "\n",
    "Document Exception Handling:\n",
    "Include comments or documentation to explain why you're handling specific exceptions and what the intended behavior is. This can be helpful for other developers (including your future self) who might work on the code.\n",
    "\n",
    "Use Context Managers: \n",
    "Use context managers (with statements) for resource management, such as opening and closing files. They help ensure resources are properly managed and released, even in the presence of exceptions."
   ]
  },
  {
   "cell_type": "code",
   "execution_count": null,
   "id": "27aeb422-d226-42d4-b9d3-a4cc3b33ca4e",
   "metadata": {},
   "outputs": [],
   "source": []
  }
 ],
 "metadata": {
  "kernelspec": {
   "display_name": "Python 3 (ipykernel)",
   "language": "python",
   "name": "python3"
  },
  "language_info": {
   "codemirror_mode": {
    "name": "ipython",
    "version": 3
   },
   "file_extension": ".py",
   "mimetype": "text/x-python",
   "name": "python",
   "nbconvert_exporter": "python",
   "pygments_lexer": "ipython3",
   "version": "3.10.8"
  }
 },
 "nbformat": 4,
 "nbformat_minor": 5
}
